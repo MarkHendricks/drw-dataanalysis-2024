{
 "cells": [
  {
   "cell_type": "markdown",
   "id": "a86bc78a",
   "metadata": {},
   "source": [
    "# Solution 3.3 - Regularized Regression\n",
    "\n",
    "## DRW & UofC Quant Foundations\n",
    "### Summer 2024\n",
    "#### Mark Hendricks\n",
    "#### hendricks@uchicago.edu"
   ]
  },
  {
   "cell_type": "markdown",
   "id": "e7358f94-49f0-4b6f-8f48-5327445ca683",
   "metadata": {},
   "source": [
    "***"
   ]
  },
  {
   "cell_type": "markdown",
   "id": "695f4428",
   "metadata": {},
   "source": [
    "# Penalized Regression"
   ]
  },
  {
   "cell_type": "markdown",
   "id": "54679f33",
   "metadata": {},
   "source": [
    "$$\\newcommand{\\nsecs}{450}$$\n",
    "$$\\newcommand{\\target}{GLD}$$\n",
    "$$\\newcommand{\\spy}{\\text{spy}}$$\n",
    "$$\\newcommand{\\hyg}{\\text{hyg}}$$\n",
    "\n",
    "## Data\n",
    "* This homework uses the file, `data/spx_weekly_returns_single_names.xlsx`.\n",
    "* Find the data in the Github repo associated with the module, (link on Canvas.)\n",
    "\n",
    "The data file contains...\n",
    "* Return rates, $r^{\\target}_t$, for the \\target, (an ETF,) which tracks the returns on gold.\n",
    "* Return rates, $r^i_t$, for $\\nsecs$ single-name equities. \n",
    "\n",
    "#### Note\n",
    "These are less than 500 return series in the sample due to filtering out securities with insufficient return histories."
   ]
  },
  {
   "cell_type": "markdown",
   "id": "54a05ac6",
   "metadata": {},
   "source": [
    "## Model\n",
    "Consider a regression of $\\target$, denoted $r^{\\target}$, on all $\\nsecs$ returns of the S&P 500 stocks.\n",
    "\n",
    "$$\n",
    "r^{\\target}_t = \\alpha + \\sum_{j=1}^k \\beta^j r^j_t + \\epsilon_t\n",
    "\\label{eq:REG}\n",
    "$$\n",
    "\n",
    "We refer to this equation below as the `MODEL`."
   ]
  },
  {
   "cell_type": "markdown",
   "id": "6d7e7846-5086-4950-a42d-4186fe051913",
   "metadata": {},
   "source": [
    "***"
   ]
  },
  {
   "cell_type": "markdown",
   "id": "5b0ff294",
   "metadata": {},
   "source": [
    "# 1. \n",
    "\n",
    "Estimate the `MODEL` with OLS.\n",
    "\n",
    "#### Note\n",
    "For this OLS estimation, along with the estimations below, try using scikit-learn in Python\n",
    "\n",
    "`from sklearn import LinearRegression Lasso Ridge`\n",
    "\n",
    "For OLS specifically, try\n",
    "\n",
    "`model_ols = LinearRegression().fit(X,y)`\n",
    "\n",
    "### 1.1. \n",
    "Report the R-squared.\n",
    "### 1.2. \n",
    "Which factors have the largest betas in explaining $r^{\\target}$?\n",
    "### 1.3. \n",
    "Calculate $\\beta^j \\sigma^j$ for each regressor. Which of these is largest in magnitude, and thus most influential in explaining $r^{\\target}$?\n",
    "\n",
    "#### Note\n",
    "The beta being large may simply be because the regressor volatility is small. By scaling by the volatility, we get a better idea of which regressor is driving the most variation.\n",
    "\n",
    "### 1.4. \n",
    "Report the matrix condition number of $R'R$, where $R$ denotes the matrix of single-name equity return data. Why should this condition number give us pause about trusting the OLS estimates out-of-sample?\n",
    "\n",
    "#### Note\n",
    "To get the matrix condition number, consider using, in Python, `numpy.linalg.cond()`."
   ]
  },
  {
   "cell_type": "markdown",
   "id": "e05e923a",
   "metadata": {},
   "source": [
    "#  2. \n",
    "\n",
    "Estimate `MODEL` with Ridge Regression. \n",
    "* Use a penalty of `ALPHA=0.5` in the estimation.\n",
    "* Try using `est = Ridge(alpha=ALPHA).fit(X,y)`\n",
    "\n",
    "### 2.1.\n",
    "Report the R-squared.\n",
    "### 2.2.\n",
    "Based on $\\beta^j \\sigma^j$, which factor is most influential for $r^{\\target}$?\n",
    "\n",
    "### 2.3.\n",
    "Report the matrix condition number of the $R'R$.\n",
    "\n",
    "### 2.4.\n",
    "How many regressors have a non-zero beta estimates? "
   ]
  },
  {
   "cell_type": "markdown",
   "id": "4bd6fb76-91eb-439a-8560-ff81fe85326b",
   "metadata": {},
   "source": [
    "***"
   ]
  },
  {
   "cell_type": "markdown",
   "id": "b869ec06-d7f9-490b-aca8-488fd5328687",
   "metadata": {},
   "source": [
    "# 3. \n",
    "\n",
    "Estimate `MODEL` with LASSO Regression. \n",
    "* Use a penalty of `ALPHA=7e-5` in the estimation.\n",
    "* Try using `est = Lasso(alpha=ALPHA).fit(X,y)`\n",
    "\n",
    "### 3.1.\n",
    "Report the R-squared.\n",
    "\n",
    "### 3.2.\n",
    "Based on $\\beta^j \\sigma^j$, which factor is most influential for $r^{\\target}$?\n",
    "\n",
    "### 3.3.\n",
    "Report the matrix condition number of the $R'R$.\n",
    "\n",
    "### 3.4.\n",
    "How many regressors have a non-zero beta estimates? "
   ]
  },
  {
   "cell_type": "markdown",
   "id": "96f7a7d5-79bf-42c8-a522-624544dc0b7f",
   "metadata": {},
   "source": [
    "***"
   ]
  },
  {
   "cell_type": "markdown",
   "id": "b7171dd5-e56a-4136-920a-974034e72eee",
   "metadata": {},
   "source": [
    "# 4.\n",
    "\n",
    "How do the estimations compare across the three methods?\n",
    "\n",
    "### 4.1.\n",
    "Create a histogram of estimated betas across the three methods, (OLS, Ridge, LASSO.) \n",
    "\n",
    "Are they all nonzero? Are there positive and negative values? Do they range widely in magnitude? \n",
    "\n",
    "### 4.2.\n",
    "Which has the largest R-squared? Is this a surprise?"
   ]
  },
  {
   "cell_type": "markdown",
   "id": "5f7b3407-fb24-4747-ba80-3bfb93066424",
   "metadata": {},
   "source": [
    "***"
   ]
  },
  {
   "cell_type": "markdown",
   "id": "5070fcbf-d1dc-4b23-932f-c4ae57e20222",
   "metadata": {},
   "source": [
    "# 5.\n",
    "\n",
    "Try using cross-validation (with K-folds) to estimate the penalty parameter for Ridge and LASSO.\n",
    "\n",
    "Estimate this CV using two functions from  `sklearn.linear_model`\n",
    "* RidgeCV\n",
    "* LassoCV\n",
    "\n",
    "Feel free to use the default parameters, including the default number of folds.\n",
    "\n",
    "Report the CV penalty parameter for Lasso and Ridge."
   ]
  },
  {
   "cell_type": "markdown",
   "id": "b2be6532-27ba-4fee-8553-f333396cfe51",
   "metadata": {},
   "source": [
    "***"
   ]
  },
  {
   "cell_type": "markdown",
   "id": "7528eccf-3176-4559-bb67-dfb6791462c9",
   "metadata": {},
   "source": [
    "# 6.\n",
    "\n",
    "Use your estimations based on data through 2022 to fit the model for 2023-2024. Use the CV penalty parameters (from the previous problem) for Ridge and Lasso.\n",
    "\n",
    "* What is the r-squared in these out-of-sample fits?\n",
    "\n",
    "\n",
    "#### Note\n",
    "Doing this is really easy in Python. For instance, for the LASSO estimation, you could try\n",
    "\n",
    "`est = Lasso(alpha=ALPHA).fit(X,y)`\n",
    "\n",
    "`score_is = est.score(X_insamp,y_insamp)`\n",
    "\n",
    "`score_oos = est.score(X_oos,y_oos)`\n",
    "\n",
    "Which method does better out-of-sample?"
   ]
  },
  {
   "cell_type": "markdown",
   "id": "585a37ae-65b3-4dec-9395-636c15fd6bed",
   "metadata": {},
   "source": [
    "***"
   ]
  },
  {
   "cell_type": "markdown",
   "id": "81780dc4-dcd1-43c1-906e-aa03bfc26e49",
   "metadata": {},
   "source": [
    "# <span style='color:red'>Solutions 1, 2, 3</span>"
   ]
  },
  {
   "cell_type": "code",
   "execution_count": 1,
   "id": "104eaed7",
   "metadata": {},
   "outputs": [],
   "source": [
    "import pandas as pd\n",
    "import numpy as np\n",
    "import statsmodels.api as sm\n",
    "from sklearn.linear_model import LinearRegression, Lasso, Ridge, LassoCV, RidgeCV\n",
    "\n",
    "import matplotlib.pyplot as plt\n",
    "import seaborn as sns\n",
    "\n",
    "import warnings"
   ]
  },
  {
   "cell_type": "code",
   "execution_count": 2,
   "id": "018ed67d",
   "metadata": {},
   "outputs": [],
   "source": [
    "FILEIN = '../data/spx_weekly_returns_single_names.xlsx'\n",
    "rets_sp500 = pd.read_excel(FILEIN, sheet_name=2, index_col=0)\n",
    "rets_gld = pd.read_excel(FILEIN, sheet_name=3, index_col=0)[['GLD']]\n",
    "\n",
    "NSECS = rets_sp500.shape[1]"
   ]
  },
  {
   "cell_type": "markdown",
   "id": "3b1caf00-8a12-4c5b-9465-f13cfcdca4d4",
   "metadata": {},
   "source": [
    "## <span style='color:red'>OLS</span>"
   ]
  },
  {
   "cell_type": "code",
   "execution_count": 3,
   "id": "3cc046f4",
   "metadata": {},
   "outputs": [],
   "source": [
    "ols_model = sm.OLS(rets_gld, sm.add_constant(rets_sp500)).fit()\n",
    "coef_ols = ols_model.params[1:].to_frame('Beta')"
   ]
  },
  {
   "cell_type": "code",
   "execution_count": 4,
   "id": "b011fbcf",
   "metadata": {
    "scrolled": true
   },
   "outputs": [],
   "source": [
    "sigma_beta_ols = rets_sp500.std() * coef_ols['Beta']"
   ]
  },
  {
   "cell_type": "markdown",
   "id": "bda12adb",
   "metadata": {},
   "source": [
    "## <span style='color:red'>Ridge</span>"
   ]
  },
  {
   "cell_type": "code",
   "execution_count": 5,
   "id": "bc73fac1-597f-40ba-85b8-6e89cd8ff995",
   "metadata": {},
   "outputs": [],
   "source": [
    "ALPHA_RIDGE = 0.5\n",
    "model_Ridge = Ridge(alpha=ALPHA_RIDGE, fit_intercept=True).fit(rets_sp500, rets_gld)\n",
    "coef_ridge = pd.DataFrame(data=model_Ridge.coef_.reshape(NSECS), index=rets_sp500.columns, columns=['Beta'])\n",
    "\n",
    "sigma_beta_ridge = rets_sp500.std() * coef_ridge['Beta']\n",
    "scaled_betas = sigma_beta_ridge.loc[lambda x: x.abs().nlargest(5).index]"
   ]
  },
  {
   "cell_type": "markdown",
   "id": "0dacf3e0",
   "metadata": {},
   "source": [
    "## <span style='color:red'>LASSO</span>"
   ]
  },
  {
   "cell_type": "code",
   "execution_count": 6,
   "id": "b0bb4e31-8469-4578-a433-6018847a6b95",
   "metadata": {},
   "outputs": [],
   "source": [
    "ALPHA = 7e-5\n",
    "model_Lasso = Lasso(alpha=ALPHA, fit_intercept=True).fit(rets_sp500, rets_gld)\n",
    "coef_lasso = pd.DataFrame(data=model_Lasso.coef_.reshape(NSECS), index=rets_sp500.columns, columns=['Beta'])\n",
    "\n",
    "sigma_beta_lasso = rets_sp500.std() * coef_lasso['Beta']"
   ]
  },
  {
   "cell_type": "markdown",
   "id": "f9803c50-b011-4c76-bce9-4b5d8d7caa49",
   "metadata": {},
   "source": [
    "***"
   ]
  },
  {
   "cell_type": "markdown",
   "id": "4a8c5796",
   "metadata": {},
   "source": [
    "# <span style='color:red'>Tables for Solutions 1, 2, 3.</span>"
   ]
  },
  {
   "cell_type": "markdown",
   "id": "6d4c6eb9-e980-4266-b7a2-92e4e0e9e8fa",
   "metadata": {},
   "source": [
    "### <span style='color:red'>R-squared (in-sample)</span>"
   ]
  },
  {
   "cell_type": "code",
   "execution_count": 7,
   "id": "c5c0afbc-42a6-4692-9ef3-262ee10ee2ef",
   "metadata": {},
   "outputs": [
    {
     "data": {
      "text/html": [
       "<style type=\"text/css\">\n",
       "</style>\n",
       "<table id=\"T_833a7\">\n",
       "  <thead>\n",
       "    <tr>\n",
       "      <th class=\"blank level0\" >&nbsp;</th>\n",
       "      <th id=\"T_833a7_level0_col0\" class=\"col_heading level0 col0\" >r-squared (in-sample)</th>\n",
       "    </tr>\n",
       "  </thead>\n",
       "  <tbody>\n",
       "    <tr>\n",
       "      <th id=\"T_833a7_level0_row0\" class=\"row_heading level0 row0\" >ols</th>\n",
       "      <td id=\"T_833a7_row0_col0\" class=\"data row0 col0\" >100.0%</td>\n",
       "    </tr>\n",
       "    <tr>\n",
       "      <th id=\"T_833a7_level0_row1\" class=\"row_heading level0 row1\" >ridge</th>\n",
       "      <td id=\"T_833a7_row1_col0\" class=\"data row1 col0\" >74.0%</td>\n",
       "    </tr>\n",
       "    <tr>\n",
       "      <th id=\"T_833a7_level0_row2\" class=\"row_heading level0 row2\" >lasso</th>\n",
       "      <td id=\"T_833a7_row2_col0\" class=\"data row2 col0\" >55.0%</td>\n",
       "    </tr>\n",
       "  </tbody>\n",
       "</table>\n"
      ],
      "text/plain": [
       "<pandas.io.formats.style.Styler at 0x16b0fedc0>"
      ]
     },
     "execution_count": 7,
     "metadata": {},
     "output_type": "execute_result"
    }
   ],
   "source": [
    "rsq = pd.DataFrame([ols_model.rsquared, model_Ridge.score(rets_sp500, rets_gld), model_Lasso.score(rets_sp500, rets_gld)],columns=['r-squared (in-sample)'],index=['ols','ridge','lasso'])\n",
    "rsq.style.format('{:.1%}')"
   ]
  },
  {
   "cell_type": "markdown",
   "id": "58e73db0-3912-4591-8d0a-56c141139635",
   "metadata": {},
   "source": [
    "### <span style='color:red'>Ranking Betas by Nominal Size</span>"
   ]
  },
  {
   "cell_type": "code",
   "execution_count": 8,
   "id": "21cc2bb6-326b-4665-922d-6f6a9c070905",
   "metadata": {},
   "outputs": [],
   "source": [
    "def get_top_values_and_indices(column, n=5):\n",
    "    top_values = column.nlargest(n)\n",
    "    return top_values.index, top_values.values"
   ]
  },
  {
   "cell_type": "code",
   "execution_count": 9,
   "id": "b5a44732-c62c-40af-9f18-79a7448e3d8d",
   "metadata": {},
   "outputs": [],
   "source": [
    "df = pd.concat([coef_ols,coef_ridge,coef_lasso],axis=1)\n",
    "df.columns = ['ols','ridge','lasso']"
   ]
  },
  {
   "cell_type": "code",
   "execution_count": 10,
   "id": "35efefc7-d357-4742-981a-ad0c398f7b2c",
   "metadata": {},
   "outputs": [
    {
     "data": {
      "text/html": [
       "<style type=\"text/css\">\n",
       "</style>\n",
       "<table id=\"T_b89cd\">\n",
       "  <thead>\n",
       "    <tr>\n",
       "      <th class=\"blank level0\" >&nbsp;</th>\n",
       "      <th id=\"T_b89cd_level0_col0\" class=\"col_heading level0 col0\" >ols index</th>\n",
       "      <th id=\"T_b89cd_level0_col1\" class=\"col_heading level0 col1\" >ols beta</th>\n",
       "      <th id=\"T_b89cd_level0_col2\" class=\"col_heading level0 col2\" >ridge index</th>\n",
       "      <th id=\"T_b89cd_level0_col3\" class=\"col_heading level0 col3\" >ridge beta</th>\n",
       "      <th id=\"T_b89cd_level0_col4\" class=\"col_heading level0 col4\" >lasso index</th>\n",
       "      <th id=\"T_b89cd_level0_col5\" class=\"col_heading level0 col5\" >lasso beta</th>\n",
       "    </tr>\n",
       "  </thead>\n",
       "  <tbody>\n",
       "    <tr>\n",
       "      <th id=\"T_b89cd_level0_row0\" class=\"row_heading level0 row0\" >#1</th>\n",
       "      <td id=\"T_b89cd_row0_col0\" class=\"data row0 col0\" >LMT</td>\n",
       "      <td id=\"T_b89cd_row0_col1\" class=\"data row0 col1\" >57.7%</td>\n",
       "      <td id=\"T_b89cd_row0_col2\" class=\"data row0 col2\" >NEM</td>\n",
       "      <td id=\"T_b89cd_row0_col3\" class=\"data row0 col3\" >12.0%</td>\n",
       "      <td id=\"T_b89cd_row0_col4\" class=\"data row0 col4\" >NEM</td>\n",
       "      <td id=\"T_b89cd_row0_col5\" class=\"data row0 col5\" >23.8%</td>\n",
       "    </tr>\n",
       "    <tr>\n",
       "      <th id=\"T_b89cd_level0_row1\" class=\"row_heading level0 row1\" >#2</th>\n",
       "      <td id=\"T_b89cd_row1_col0\" class=\"data row1 col0\" >AEE</td>\n",
       "      <td id=\"T_b89cd_row1_col1\" class=\"data row1 col1\" >55.7%</td>\n",
       "      <td id=\"T_b89cd_row1_col2\" class=\"data row1 col2\" >FCX</td>\n",
       "      <td id=\"T_b89cd_row1_col3\" class=\"data row1 col3\" >2.9%</td>\n",
       "      <td id=\"T_b89cd_row1_col4\" class=\"data row1 col4\" >NEE</td>\n",
       "      <td id=\"T_b89cd_row1_col5\" class=\"data row1 col5\" >1.6%</td>\n",
       "    </tr>\n",
       "    <tr>\n",
       "      <th id=\"T_b89cd_level0_row2\" class=\"row_heading level0 row2\" >#3</th>\n",
       "      <td id=\"T_b89cd_row2_col0\" class=\"data row2 col0\" >HOLX</td>\n",
       "      <td id=\"T_b89cd_row2_col1\" class=\"data row2 col1\" >46.0%</td>\n",
       "      <td id=\"T_b89cd_row2_col2\" class=\"data row2 col2\" >O</td>\n",
       "      <td id=\"T_b89cd_row2_col3\" class=\"data row2 col3\" >2.3%</td>\n",
       "      <td id=\"T_b89cd_row2_col4\" class=\"data row2 col4\" >O</td>\n",
       "      <td id=\"T_b89cd_row2_col5\" class=\"data row2 col5\" >1.3%</td>\n",
       "    </tr>\n",
       "    <tr>\n",
       "      <th id=\"T_b89cd_level0_row3\" class=\"row_heading level0 row3\" >#4</th>\n",
       "      <td id=\"T_b89cd_row3_col0\" class=\"data row3 col0\" >CB</td>\n",
       "      <td id=\"T_b89cd_row3_col1\" class=\"data row3 col1\" >41.9%</td>\n",
       "      <td id=\"T_b89cd_row3_col2\" class=\"data row3 col2\" >NEE</td>\n",
       "      <td id=\"T_b89cd_row3_col3\" class=\"data row3 col3\" >2.0%</td>\n",
       "      <td id=\"T_b89cd_row3_col4\" class=\"data row3 col4\" >BA</td>\n",
       "      <td id=\"T_b89cd_row3_col5\" class=\"data row3 col5\" >1.1%</td>\n",
       "    </tr>\n",
       "    <tr>\n",
       "      <th id=\"T_b89cd_level0_row4\" class=\"row_heading level0 row4\" >#5</th>\n",
       "      <td id=\"T_b89cd_row4_col0\" class=\"data row4 col0\" >GIS</td>\n",
       "      <td id=\"T_b89cd_row4_col1\" class=\"data row4 col1\" >40.7%</td>\n",
       "      <td id=\"T_b89cd_row4_col2\" class=\"data row4 col2\" >COO</td>\n",
       "      <td id=\"T_b89cd_row4_col3\" class=\"data row4 col3\" >2.0%</td>\n",
       "      <td id=\"T_b89cd_row4_col4\" class=\"data row4 col4\" >ENPH</td>\n",
       "      <td id=\"T_b89cd_row4_col5\" class=\"data row4 col5\" >1.0%</td>\n",
       "    </tr>\n",
       "  </tbody>\n",
       "</table>\n"
      ],
      "text/plain": [
       "<pandas.io.formats.style.Styler at 0x16ba7bca0>"
      ]
     },
     "execution_count": 10,
     "metadata": {},
     "output_type": "execute_result"
    }
   ],
   "source": [
    "# Create an empty dictionary to store the new DataFrame\n",
    "new_data = {}\n",
    "n = 5\n",
    "\n",
    "# Populate the new_data dictionary\n",
    "for col in df.columns:\n",
    "    indices, values = get_top_values_and_indices(df[col], n)\n",
    "    new_data[f'{col} index'] = indices\n",
    "    new_data[f'{col} beta'] = values\n",
    "\n",
    "# Create a new DataFrame from the new_data dictionary\n",
    "top_df = pd.DataFrame(new_data)\n",
    "top_df.index = [f'#{i+1}' for i in range(n)]\n",
    "\n",
    "# Display the DataFrame\n",
    "format_dict = {col: '{:.1%}' for col in top_df.columns if col.endswith('beta')}\n",
    "\n",
    "# Apply the formatting to the DataFrame\n",
    "top_df.style.format(format_dict)"
   ]
  },
  {
   "cell_type": "markdown",
   "id": "1324c025-bd78-40d2-baea-afc0e97ce62e",
   "metadata": {},
   "source": [
    "### <span style='color:red'>Ranking Betas by Vol-Scaled Size</span>"
   ]
  },
  {
   "cell_type": "code",
   "execution_count": 11,
   "id": "c31a4acd-ca6d-45e1-abac-eeae5eeff972",
   "metadata": {},
   "outputs": [],
   "source": [
    "df = pd.concat([sigma_beta_ols, sigma_beta_ridge, sigma_beta_lasso],axis=1)\n",
    "df.columns = ['ols','ridge','lasso']"
   ]
  },
  {
   "cell_type": "code",
   "execution_count": 12,
   "id": "ae983fec-261b-4399-a5e1-d27eb70d2ccd",
   "metadata": {},
   "outputs": [
    {
     "data": {
      "text/html": [
       "<style type=\"text/css\">\n",
       "</style>\n",
       "<table id=\"T_c93bf\">\n",
       "  <thead>\n",
       "    <tr>\n",
       "      <th class=\"blank level0\" >&nbsp;</th>\n",
       "      <th id=\"T_c93bf_level0_col0\" class=\"col_heading level0 col0\" >ols index</th>\n",
       "      <th id=\"T_c93bf_level0_col1\" class=\"col_heading level0 col1\" >ols scaled beta</th>\n",
       "      <th id=\"T_c93bf_level0_col2\" class=\"col_heading level0 col2\" >ridge index</th>\n",
       "      <th id=\"T_c93bf_level0_col3\" class=\"col_heading level0 col3\" >ridge scaled beta</th>\n",
       "      <th id=\"T_c93bf_level0_col4\" class=\"col_heading level0 col4\" >lasso index</th>\n",
       "      <th id=\"T_c93bf_level0_col5\" class=\"col_heading level0 col5\" >lasso scaled beta</th>\n",
       "    </tr>\n",
       "  </thead>\n",
       "  <tbody>\n",
       "    <tr>\n",
       "      <th id=\"T_c93bf_level0_row0\" class=\"row_heading level0 row0\" >#1</th>\n",
       "      <td id=\"T_c93bf_row0_col0\" class=\"data row0 col0\" >COF</td>\n",
       "      <td id=\"T_c93bf_row0_col1\" class=\"data row0 col1\" >1.98%</td>\n",
       "      <td id=\"T_c93bf_row0_col2\" class=\"data row0 col2\" >NEM</td>\n",
       "      <td id=\"T_c93bf_row0_col3\" class=\"data row0 col3\" >0.59%</td>\n",
       "      <td id=\"T_c93bf_row0_col4\" class=\"data row0 col4\" >NEM</td>\n",
       "      <td id=\"T_c93bf_row0_col5\" class=\"data row0 col5\" >1.17%</td>\n",
       "    </tr>\n",
       "    <tr>\n",
       "      <th id=\"T_c93bf_level0_row1\" class=\"row_heading level0 row1\" >#2</th>\n",
       "      <td id=\"T_c93bf_row1_col0\" class=\"data row1 col0\" >WELL</td>\n",
       "      <td id=\"T_c93bf_row1_col1\" class=\"data row1 col1\" >1.95%</td>\n",
       "      <td id=\"T_c93bf_row1_col2\" class=\"data row1 col2\" >FCX</td>\n",
       "      <td id=\"T_c93bf_row1_col3\" class=\"data row1 col3\" >0.21%</td>\n",
       "      <td id=\"T_c93bf_row1_col4\" class=\"data row1 col4\" >ENPH</td>\n",
       "      <td id=\"T_c93bf_row1_col5\" class=\"data row1 col5\" >0.11%</td>\n",
       "    </tr>\n",
       "    <tr>\n",
       "      <th id=\"T_c93bf_level0_row2\" class=\"row_heading level0 row2\" >#3</th>\n",
       "      <td id=\"T_c93bf_row2_col0\" class=\"data row2 col0\" >LMT</td>\n",
       "      <td id=\"T_c93bf_row2_col1\" class=\"data row2 col1\" >1.86%</td>\n",
       "      <td id=\"T_c93bf_row2_col2\" class=\"data row2 col2\" >ENPH</td>\n",
       "      <td id=\"T_c93bf_row2_col3\" class=\"data row2 col3\" >0.11%</td>\n",
       "      <td id=\"T_c93bf_row2_col4\" class=\"data row2 col4\" >BA</td>\n",
       "      <td id=\"T_c93bf_row2_col5\" class=\"data row2 col5\" >0.08%</td>\n",
       "    </tr>\n",
       "    <tr>\n",
       "      <th id=\"T_c93bf_level0_row3\" class=\"row_heading level0 row3\" >#4</th>\n",
       "      <td id=\"T_c93bf_row3_col0\" class=\"data row3 col0\" >AMP</td>\n",
       "      <td id=\"T_c93bf_row3_col1\" class=\"data row3 col1\" >1.79%</td>\n",
       "      <td id=\"T_c93bf_row3_col2\" class=\"data row3 col2\" >BA</td>\n",
       "      <td id=\"T_c93bf_row3_col3\" class=\"data row3 col3\" >0.11%</td>\n",
       "      <td id=\"T_c93bf_row3_col4\" class=\"data row3 col4\" >NEE</td>\n",
       "      <td id=\"T_c93bf_row3_col5\" class=\"data row3 col5\" >0.05%</td>\n",
       "    </tr>\n",
       "    <tr>\n",
       "      <th id=\"T_c93bf_level0_row4\" class=\"row_heading level0 row4\" >#5</th>\n",
       "      <td id=\"T_c93bf_row4_col0\" class=\"data row4 col0\" >HOLX</td>\n",
       "      <td id=\"T_c93bf_row4_col1\" class=\"data row4 col1\" >1.76%</td>\n",
       "      <td id=\"T_c93bf_row4_col2\" class=\"data row4 col2\" >HAL</td>\n",
       "      <td id=\"T_c93bf_row4_col3\" class=\"data row4 col3\" >0.10%</td>\n",
       "      <td id=\"T_c93bf_row4_col4\" class=\"data row4 col4\" >O</td>\n",
       "      <td id=\"T_c93bf_row4_col5\" class=\"data row4 col5\" >0.05%</td>\n",
       "    </tr>\n",
       "  </tbody>\n",
       "</table>\n"
      ],
      "text/plain": [
       "<pandas.io.formats.style.Styler at 0x16ba68220>"
      ]
     },
     "execution_count": 12,
     "metadata": {},
     "output_type": "execute_result"
    }
   ],
   "source": [
    "# Create an empty dictionary to store the new DataFrame\n",
    "new_data = {}\n",
    "n = 5\n",
    "\n",
    "# Populate the new_data dictionary\n",
    "for col in df.columns:\n",
    "    indices, values = get_top_values_and_indices(df[col], n)\n",
    "    new_data[f'{col} index'] = indices\n",
    "    new_data[f'{col} scaled beta'] = values\n",
    "\n",
    "# Create a new DataFrame from the new_data dictionary\n",
    "top_df = pd.DataFrame(new_data)\n",
    "top_df.index = [f'#{i+1}' for i in range(n)]\n",
    "\n",
    "# Display the DataFrame\n",
    "format_dict = {col: '{:.2%}' for col in top_df.columns if col.endswith('beta')}\n",
    "\n",
    "# Apply the formatting to the DataFrame\n",
    "top_df.style.format(format_dict)"
   ]
  },
  {
   "cell_type": "markdown",
   "id": "e3b4c493-8824-4110-a61c-5a03df77df38",
   "metadata": {},
   "source": [
    "Scaling by $\\sigma_j$ allows us to have a more useful comparison between regression coefficients. In doing so, we find the largest (in magnitude) of the coefficients, and thus the most influential regressor, is NEM. "
   ]
  },
  {
   "cell_type": "markdown",
   "id": "c96bef76-583f-4ad4-87a6-963f39b513e3",
   "metadata": {},
   "source": [
    "### <span style='color:red'>Condition Number of $R'R$</span>"
   ]
  },
  {
   "cell_type": "code",
   "execution_count": 13,
   "id": "0bd92eb4-c0ec-4765-8674-9b31a508dd1c",
   "metadata": {},
   "outputs": [
    {
     "data": {
      "text/html": [
       "<style type=\"text/css\">\n",
       "</style>\n",
       "<table id=\"T_a2e6e\">\n",
       "  <thead>\n",
       "    <tr>\n",
       "      <th class=\"blank level0\" >&nbsp;</th>\n",
       "      <th id=\"T_a2e6e_level0_col0\" class=\"col_heading level0 col0\" >matrix condition</th>\n",
       "    </tr>\n",
       "  </thead>\n",
       "  <tbody>\n",
       "    <tr>\n",
       "      <th id=\"T_a2e6e_level0_row0\" class=\"row_heading level0 row0\" >OLS</th>\n",
       "      <td id=\"T_a2e6e_row0_col0\" class=\"data row0 col0\" >26,444,718,373,225,488,384</td>\n",
       "    </tr>\n",
       "    <tr>\n",
       "      <th id=\"T_a2e6e_level0_row1\" class=\"row_heading level0 row1\" >Ridge</th>\n",
       "      <td id=\"T_a2e6e_row1_col0\" class=\"data row1 col0\" >308</td>\n",
       "    </tr>\n",
       "    <tr>\n",
       "      <th id=\"T_a2e6e_level0_row2\" class=\"row_heading level0 row2\" >LASSO</th>\n",
       "      <td id=\"T_a2e6e_row2_col0\" class=\"data row2 col0\" >49</td>\n",
       "    </tr>\n",
       "  </tbody>\n",
       "</table>\n"
      ],
      "text/plain": [
       "<pandas.io.formats.style.Styler at 0x16b3aec40>"
      ]
     },
     "execution_count": 13,
     "metadata": {},
     "output_type": "execute_result"
    }
   ],
   "source": [
    "Xols = rets_sp500.T@rets_sp500\n",
    "Xridge = rets_sp500.T@rets_sp500 + np.diag(np.ones(rets_sp500.shape[1])) * ALPHA_RIDGE\n",
    "idx_lasso = rets_sp500.columns[(coef_lasso != 0)['Beta']]\n",
    "Xlasso = rets_sp500[idx_lasso].T@rets_sp500[idx_lasso]\n",
    "\n",
    "condition_numbers = pd.DataFrame(columns=['matrix condition'],\n",
    "                              index=['OLS','Ridge','LASSO'],\n",
    "                              data=[np.linalg.cond(Xols),                                     \n",
    "                                    np.linalg.cond(Xridge),\n",
    "                                    np.linalg.cond(Xlasso)\n",
    "                                   ])\n",
    "\n",
    "#condition_numbers['number of regressors'] = [(coef_ols != 0).sum()[0], (coef_ridge != 0).sum()[0], (coef_lasso != 0).sum()[0]] #[X.shape[1], X.shape[1], Xlasso.shape[1]]\n",
    "\n",
    "condition_numbers.style.format('{:,.0f}')"
   ]
  },
  {
   "cell_type": "markdown",
   "id": "0dbcabc8-805c-4db8-8bc4-6efc32b67f78",
   "metadata": {},
   "source": [
    "A large condition number should give us pause as it indicates that very small change in the inputs to our training data would yield very large changes in our model's fitted parameters. In the case of linear regression, a high condition number raises concerns about multicollinearity, which can easily distort both the interpretation of coefficients and their out-of-sample performance. The condition numbers produced here are extremely large."
   ]
  },
  {
   "cell_type": "markdown",
   "id": "69338bc2-8a7c-4737-a00a-079837245c16",
   "metadata": {},
   "source": [
    "### <span style='color:red'>Selected Regressors</span>"
   ]
  },
  {
   "cell_type": "code",
   "execution_count": 14,
   "id": "5f1f8699",
   "metadata": {},
   "outputs": [
    {
     "name": "stderr",
     "output_type": "stream",
     "text": [
      "/var/folders/zx/3v_qt0957xzg3nqtnkv007d00000gn/T/ipykernel_18731/3216195697.py:1: FutureWarning: Series.__getitem__ treating keys as positions is deprecated. In a future version, integer keys will always be treated as labels (consistent with DataFrame behavior). To access a value by position, use `ser.iloc[pos]`\n",
      "  pd.DataFrame([(coef_ols != 0).sum()[0], (coef_ridge != 0).sum()[0], (coef_lasso != 0).sum()[0]],index=['ols','ridge','lasso'],columns=['nonzero betas'])\n"
     ]
    },
    {
     "data": {
      "text/html": [
       "<div>\n",
       "<style scoped>\n",
       "    .dataframe tbody tr th:only-of-type {\n",
       "        vertical-align: middle;\n",
       "    }\n",
       "\n",
       "    .dataframe tbody tr th {\n",
       "        vertical-align: top;\n",
       "    }\n",
       "\n",
       "    .dataframe thead th {\n",
       "        text-align: right;\n",
       "    }\n",
       "</style>\n",
       "<table border=\"1\" class=\"dataframe\">\n",
       "  <thead>\n",
       "    <tr style=\"text-align: right;\">\n",
       "      <th></th>\n",
       "      <th>nonzero betas</th>\n",
       "    </tr>\n",
       "  </thead>\n",
       "  <tbody>\n",
       "    <tr>\n",
       "      <th>ols</th>\n",
       "      <td>446</td>\n",
       "    </tr>\n",
       "    <tr>\n",
       "      <th>ridge</th>\n",
       "      <td>446</td>\n",
       "    </tr>\n",
       "    <tr>\n",
       "      <th>lasso</th>\n",
       "      <td>11</td>\n",
       "    </tr>\n",
       "  </tbody>\n",
       "</table>\n",
       "</div>"
      ],
      "text/plain": [
       "       nonzero betas\n",
       "ols              446\n",
       "ridge            446\n",
       "lasso             11"
      ]
     },
     "execution_count": 14,
     "metadata": {},
     "output_type": "execute_result"
    }
   ],
   "source": [
    "pd.DataFrame([(coef_ols != 0).sum()[0], (coef_ridge != 0).sum()[0], (coef_lasso != 0).sum()[0]],index=['ols','ridge','lasso'],columns=['nonzero betas'])"
   ]
  },
  {
   "cell_type": "markdown",
   "id": "94ce7119-9e52-446e-b2ce-a1d1bee68fcf",
   "metadata": {},
   "source": [
    "# <span style='color:red'>Solution 4</span>"
   ]
  },
  {
   "cell_type": "markdown",
   "id": "3c890f70",
   "metadata": {},
   "source": [
    "## <span style='color:red'>4.1.</span>"
   ]
  },
  {
   "cell_type": "code",
   "execution_count": 15,
   "id": "a4757aef",
   "metadata": {},
   "outputs": [
    {
     "data": {
      "text/plain": [
       "<Axes: title={'center': 'OLS Coefficients'}, ylabel='Frequency'>"
      ]
     },
     "execution_count": 15,
     "metadata": {},
     "output_type": "execute_result"
    },
    {
     "data": {
      "image/png": "[encoded data removed]",
      "text/plain": [
       "<Figure size 1200x500 with 1 Axes>"
      ]
     },
     "metadata": {},
     "output_type": "display_data"
    }
   ],
   "source": [
    "coef_ols.plot(kind='hist', bins=50, figsize=(12, 5), title='OLS Coefficients')"
   ]
  },
  {
   "cell_type": "code",
   "execution_count": 16,
   "id": "475e92e0",
   "metadata": {},
   "outputs": [
    {
     "data": {
      "text/plain": [
       "<Axes: title={'center': 'Ridge Coefficients'}, ylabel='Frequency'>"
      ]
     },
     "execution_count": 16,
     "metadata": {},
     "output_type": "execute_result"
    },
    {
     "data": {
      "image/png": "[encoded data removed]",
      "text/plain": [
       "<Figure size 1200x500 with 1 Axes>"
      ]
     },
     "metadata": {},
     "output_type": "display_data"
    }
   ],
   "source": [
    "coef_ridge.plot(kind='hist', bins=50, figsize=(12, 5), title='Ridge Coefficients')"
   ]
  },
  {
   "cell_type": "code",
   "execution_count": 17,
   "id": "fe9f668e",
   "metadata": {},
   "outputs": [
    {
     "data": {
      "text/plain": [
       "<Axes: title={'center': 'Lasso Coefficients'}, ylabel='Frequency'>"
      ]
     },
     "execution_count": 17,
     "metadata": {},
     "output_type": "execute_result"
    },
    {
     "data": {
      "image/png": "[encoded data removed]",
      "text/plain": [
       "<Figure size 1200x500 with 1 Axes>"
      ]
     },
     "metadata": {},
     "output_type": "display_data"
    }
   ],
   "source": [
    "coef_lasso.plot(kind='hist', bins=50, figsize=(12, 5), title='Lasso Coefficients')"
   ]
  },
  {
   "cell_type": "markdown",
   "id": "8d0e755a",
   "metadata": {},
   "source": [
    "Immediately, it is quite clear that the penalized regressions (Lasso and Ridge) have notably smaller coefficients in general. It is also clear that the penalized regressions tend to push many coefficients towards 0, but some get pushed away from 0. This reflects the notion that the penalties serve to give more \"responsibility\" to certain regressors.\n",
    "\n",
    "Unsurprisingly, all 3 models had coefficients distributed near 0, with Lasso having a significant proportion of them being equal to 0."
   ]
  },
  {
   "cell_type": "markdown",
   "id": "c0c8ad9b",
   "metadata": {},
   "source": [
    "## <span style='color:red'>4.2.</span>"
   ]
  },
  {
   "cell_type": "markdown",
   "id": "60852386",
   "metadata": {},
   "source": [
    "From above, we found that OLS had the largest r-squared, which is entirely unsurprising given that this is referring to *in sample* performance. OLS was given far more \"power\" to fit the training data."
   ]
  },
  {
   "cell_type": "markdown",
   "id": "00105445",
   "metadata": {},
   "source": [
    "***"
   ]
  },
  {
   "cell_type": "markdown",
   "id": "543dfc2f",
   "metadata": {},
   "source": [
    "# <span style='color:red'>Solution 5</span>"
   ]
  },
  {
   "cell_type": "code",
   "execution_count": 18,
   "id": "300ba24d",
   "metadata": {},
   "outputs": [],
   "source": [
    "model_ridge_cv = RidgeCV().fit(rets_sp500, np.ravel(rets_gld))"
   ]
  },
  {
   "cell_type": "code",
   "execution_count": 19,
   "id": "3ed1b4bf",
   "metadata": {},
   "outputs": [],
   "source": [
    "with warnings.catch_warnings():\n",
    "    warnings.simplefilter(\"ignore\")\n",
    "\n",
    "    model_lasso_cv = LassoCV(max_iter=100).fit(rets_sp500, np.ravel(rets_gld))"
   ]
  },
  {
   "cell_type": "code",
   "execution_count": 20,
   "id": "0fc20f71",
   "metadata": {},
   "outputs": [
    {
     "data": {
      "text/html": [
       "<div>\n",
       "<style scoped>\n",
       "    .dataframe tbody tr th:only-of-type {\n",
       "        vertical-align: middle;\n",
       "    }\n",
       "\n",
       "    .dataframe tbody tr th {\n",
       "        vertical-align: top;\n",
       "    }\n",
       "\n",
       "    .dataframe thead th {\n",
       "        text-align: right;\n",
       "    }\n",
       "</style>\n",
       "<table border=\"1\" class=\"dataframe\">\n",
       "  <thead>\n",
       "    <tr style=\"text-align: right;\">\n",
       "      <th></th>\n",
       "      <th>CV optimal penalty</th>\n",
       "    </tr>\n",
       "  </thead>\n",
       "  <tbody>\n",
       "    <tr>\n",
       "      <th>ridge</th>\n",
       "      <td>1.000000</td>\n",
       "    </tr>\n",
       "    <tr>\n",
       "      <th>lasso</th>\n",
       "      <td>0.000042</td>\n",
       "    </tr>\n",
       "  </tbody>\n",
       "</table>\n",
       "</div>"
      ],
      "text/plain": [
       "       CV optimal penalty\n",
       "ridge            1.000000\n",
       "lasso            0.000042"
      ]
     },
     "execution_count": 20,
     "metadata": {},
     "output_type": "execute_result"
    }
   ],
   "source": [
    "pd.DataFrame([model_ridge_cv.alpha_, model_lasso_cv.alpha_], columns=['CV optimal penalty'],index=['ridge','lasso'])"
   ]
  },
  {
   "cell_type": "markdown",
   "id": "1e3ccb4d",
   "metadata": {},
   "source": [
    "# <span style='color:red'>Solution 6</span>"
   ]
  },
  {
   "cell_type": "code",
   "execution_count": 21,
   "id": "8d2e0c39",
   "metadata": {},
   "outputs": [],
   "source": [
    "YEAR_IS = '2022'\n",
    "YEAR_OOS = '2023'\n",
    "\n",
    "train_X = rets_sp500.loc[:YEAR_IS]\n",
    "train_y = rets_gld.loc[:YEAR_IS]\n",
    "\n",
    "test_X = rets_sp500.loc[YEAR_OOS:]\n",
    "test_y = rets_gld.loc[YEAR_OOS:]"
   ]
  },
  {
   "cell_type": "code",
   "execution_count": 22,
   "id": "665878b8",
   "metadata": {},
   "outputs": [],
   "source": [
    "ols_is = LinearRegression().fit(train_X, train_y)\n",
    "ridge_is = Ridge(alpha=model_ridge_cv.alpha_).fit(train_X, train_y)\n",
    "lasso_is = Lasso(alpha=model_lasso_cv.alpha_).fit(train_X, train_y)"
   ]
  },
  {
   "cell_type": "code",
   "execution_count": 23,
   "id": "7dd6a4d1",
   "metadata": {},
   "outputs": [
    {
     "data": {
      "text/html": [
       "<style type=\"text/css\">\n",
       "</style>\n",
       "<table id=\"T_51f7b\">\n",
       "  <thead>\n",
       "    <tr>\n",
       "      <th class=\"blank level0\" >&nbsp;</th>\n",
       "      <th id=\"T_51f7b_level0_col0\" class=\"col_heading level0 col0\" >OOS r-squared</th>\n",
       "    </tr>\n",
       "  </thead>\n",
       "  <tbody>\n",
       "    <tr>\n",
       "      <th id=\"T_51f7b_level0_row0\" class=\"row_heading level0 row0\" >ols</th>\n",
       "      <td id=\"T_51f7b_row0_col0\" class=\"data row0 col0\" >-168.22%</td>\n",
       "    </tr>\n",
       "    <tr>\n",
       "      <th id=\"T_51f7b_level0_row1\" class=\"row_heading level0 row1\" >ridge</th>\n",
       "      <td id=\"T_51f7b_row1_col0\" class=\"data row1 col0\" >35.60%</td>\n",
       "    </tr>\n",
       "    <tr>\n",
       "      <th id=\"T_51f7b_level0_row2\" class=\"row_heading level0 row2\" >lasso</th>\n",
       "      <td id=\"T_51f7b_row2_col0\" class=\"data row2 col0\" >46.27%</td>\n",
       "    </tr>\n",
       "  </tbody>\n",
       "</table>\n"
      ],
      "text/plain": [
       "<pandas.io.formats.style.Styler at 0x14be4f670>"
      ]
     },
     "execution_count": 23,
     "metadata": {},
     "output_type": "execute_result"
    }
   ],
   "source": [
    "oos_rsq = pd.DataFrame([ols_is.score(test_X, test_y),ridge_is.score(test_X, test_y), lasso_is.score(test_X, test_y)],columns=['OOS r-squared'],index=['ols','ridge','lasso'])\n",
    "oos_rsq.style.format('{:.2%}')"
   ]
  },
  {
   "cell_type": "markdown",
   "id": "4f5d3c88",
   "metadata": {},
   "source": [
    "As demonstrated by the out of sample r-squared values, OLS performs far worse than does penalized regression. In fact, both Lasso and Ridge perform far better than the null model. Given more penalty values in our cross-validation for Ridge (instead of the default scikit-learn parameters), we may be better able to compare Lasso and Ridge. In general, however, it is important to remember that the \"optimal\" penalties found in part 5 were calculated using the test sample, which gives rise to some lookahead bias."
   ]
  }
 ],
 "metadata": {
  "codeCellConfig": {
   "lineNumbers": true
  },
  "hide_input": false,
  "kernelspec": {
   "display_name": "Python 3 (ipykernel)",
   "language": "python",
   "name": "python3"
  },
  "language_info": {
   "codemirror_mode": {
    "name": "ipython",
    "version": 3
   },
   "file_extension": ".py",
   "mimetype": "text/x-python",
   "name": "python",
   "nbconvert_exporter": "python",
   "pygments_lexer": "ipython3",
   "version": "3.9.6"
  },
  "markdownCellConfig": {
   "lineNumbers": true
  },
  "numberCellsToRenderDirectly": 10000000000000,
  "renderCellOnIdle": false,
  "toc": {
   "base_numbering": 1,
   "nav_menu": {},
   "number_sections": false,
   "sideBar": true,
   "skip_h1_title": false,
   "title_cell": "Table of Contents",
   "title_sidebar": "Contents",
   "toc_cell": false,
   "toc_position": {},
   "toc_section_display": true,
   "toc_window_display": false
  },
  "varInspector": {
   "cols": {
    "lenName": 16,
    "lenType": 16,
    "lenVar": 40
   },
   "kernels_config": {
    "python": {
     "delete_cmd_postfix": "",
     "delete_cmd_prefix": "del ",
     "library": "var_list.py",
     "varRefreshCmd": "print(var_dic_list())"
    },
    "r": {
     "delete_cmd_postfix": ") ",
     "delete_cmd_prefix": "rm(",
     "library": "var_list.r",
     "varRefreshCmd": "cat(var_dic_list()) "
    }
   },
   "types_to_exclude": [
    "module",
    "function",
    "builtin_function_or_method",
    "instance",
    "_Feature"
   ],
   "window_display": false
  }
 },
 "nbformat": 4,
 "nbformat_minor": 5
}
