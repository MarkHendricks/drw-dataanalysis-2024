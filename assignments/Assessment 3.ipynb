{
 "cells": [
  {
   "cell_type": "markdown",
   "id": "00d7ea43",
   "metadata": {},
   "source": [
    "# Assessment 3\n",
    "\n",
    "## DRW & UofC Quant Foundations\n",
    "### Summer 2024\n",
    "#### Mark Hendricks\n",
    "#### hendricks@uchicago.edu"
   ]
  },
  {
   "cell_type": "markdown",
   "id": "0107561b-ee0c-4156-b4d5-25cda82521ac",
   "metadata": {},
   "source": [
    "In the Github repo, find the data file, `multi_asset_etf_data.xlsx`.\n",
    "* Monthly return data is provided on 12 asset classes (via ETFs).\n",
    "* Note that `SHV` is essentially risk-free cash holdings."
   ]
  },
  {
   "cell_type": "markdown",
   "id": "9ff82bad",
   "metadata": {},
   "source": [
    "# 1. OLS (35 pts)"
   ]
  },
  {
   "cell_type": "markdown",
   "id": "d6ea05b5",
   "metadata": {},
   "source": [
    "$$\\newcommand{\\targ}{\\text{EEM}}$$\n",
    "$$\\newcommand{\\dep}{\\text{BWX}}$$\n",
    "$$\\newcommand{\\depsec}{\\text{SPY}}$$\n",
    "\n",
    "### 1.1 \n",
    "\n",
    "Use OLS to estimate the regression of $\\targ$ on $\\dep$.\n",
    "\n",
    "$$r^{\\targ}_t = \\alpha + \\beta^{\\dep}r^{\\dep}_t + \\epsilon_t$$\n",
    "\n",
    "* (a) (5pts) Report the estimate for $\\beta^{\\dep}$ and the r-squared.\n",
    "\n",
    "* (b) (5pts) Based on this estimation, explain whether $\\targ$ returns are sensitive to $\\dep$, both in the sense of having an impact and as to whether they explain most time- series variation in real estate returns.\n",
    "\n",
    "### 1.2. \n",
    "\n",
    "(5pts) Consider a multivariable regression of $\\targ$ on both $\\dep$ and $\\depsec$.\n",
    "\n",
    "$$r^{\\targ}_t = \\alpha + \\beta^{\\dep}r_t^{\\dep} + \\beta^{\\depsec}r_t^{\\depsec} + \\epsilon$$\n",
    "\n",
    "Report the estimate for $\\beta^{\\dep}$ and the r-squared.\n",
    "\n",
    "### 1.3. \n",
    "\n",
    "* (a) (5pts) Report the correlation matrix of $\\targ, \\dep, \\depsec$.\n",
    "* (b) (5pts) Discuss why the estimated $\\beta^{\\dep}$ changed from the univariate regression versus the multivariate regression.\n",
    "\n",
    "### 1.4. \n",
    "(10pts) No need to report the t-stats from the two regression estimates above. But name two assumptions on which the classical t-stats depend. Comment on whether those assumptions are reasonable in these regressions."
   ]
  },
  {
   "cell_type": "markdown",
   "id": "d77d6ef8",
   "metadata": {},
   "source": [
    "***"
   ]
  },
  {
   "cell_type": "markdown",
   "id": "bc196d7c",
   "metadata": {},
   "source": [
    "# 2. Time-series Methods (30 pts)"
   ]
  },
  {
   "cell_type": "markdown",
   "id": "4f071947",
   "metadata": {},
   "source": [
    "### 2.1. (20pts) \n",
    "\n",
    "Forecast the next-month volatility of the return of $\\targ$ using each of the following methods:\n",
    "* expanding window (with minimum of 24 months)\n",
    "* rolling window (24 months)\n",
    "* GARCH(1,1)\n",
    "\n",
    "The `expanding window` method is simply the standard deviation calculation using all data up to $t$ to predict variance or volatility at $t+1$. Using pandas, try `.expanding(24).std()`.\n",
    "\n",
    "Be sure to annualize these volatility forecasts by scaling by $\\sqrt{12}$.\n",
    "* (a) Plot the time series of volatility forecasts using each of the three methods.\n",
    "\n",
    "* (b) Report the volatility forecast for April 2020 (using data through March 2020) and May 2024 (using data through April 2024).\n",
    "\n",
    "### 2.2 \n",
    "\n",
    "Forecast $\\targ$ with an autogression, using OLS. (That is, the regressor is a lag of the target.)\n",
    "\n",
    "$$r^{\\targ}_t = \\alpha + \\beta r^{\\targ}_{t-1} + \\epsilon_{t-1}$$\n",
    "\n",
    "* (5pts) Report the r-squared and $\\beta$ estimates.\n",
    "* (5pts) Which of these issues would you expect to be a concern for this regression: \n",
    "    - non-stationary process\n",
    "    - serial correlation\n",
    "    \n",
    "    No need to go into too much detail; a conceptual answer is fine."
   ]
  },
  {
   "cell_type": "markdown",
   "id": "a54b3a21",
   "metadata": {},
   "source": [
    "***"
   ]
  },
  {
   "cell_type": "markdown",
   "id": "3f46955c",
   "metadata": {},
   "source": [
    "# 3. Penalized Regression (35pts)"
   ]
  },
  {
   "cell_type": "markdown",
   "id": "a1645833",
   "metadata": {},
   "source": [
    "Estimate the regression of $\\targ$ on all 10 other return series. Use each of the following three models:\n",
    "* OLS\n",
    "* Ridge with penalty 0.5.\n",
    "* LASSO with penalty 2e-4.\n",
    "\n",
    "Only use data through the end of `2021`.\n",
    "\n",
    "### 3.1. (10pts) \n",
    "Report the estimated betas for each of the models.\n",
    "\n",
    "\n",
    "### 3.2. (5pts) \n",
    "Report the regressor correlation matrix (10 × 10). What concerns does it raise about the estimation of the OLS model?\n",
    "\n",
    "### 3.3. (5pts) \n",
    "How do the Ridge beta estimates above compare to OLS? Conceptually, what types of applications is Ridge useful?\n",
    "\n",
    "### 3.4. (5pts) \n",
    "How do the LASSO beta estimates above compare to OLS? Conceptually, what types of applications is LASSO useful?\n",
    "\n",
    "### 3.5. (10pts) \n",
    "Consider the out-of-sample fit (data for `2022` onward) for these three models. Report the r-squared for these out-of-sample estimates.\n",
    "\n",
    "For example, try using `Ridge(alpha=PENALTY).fit(Xin).score(Xout)`."
   ]
  },
  {
   "cell_type": "markdown",
   "id": "395f49d3",
   "metadata": {},
   "source": [
    "***"
   ]
  }
 ],
 "metadata": {
  "hide_input": false,
  "kernelspec": {
   "display_name": "Python 3 (ipykernel)",
   "language": "python",
   "name": "python3"
  },
  "language_info": {
   "codemirror_mode": {
    "name": "ipython",
    "version": 3
   },
   "file_extension": ".py",
   "mimetype": "text/x-python",
   "name": "python",
   "nbconvert_exporter": "python",
   "pygments_lexer": "ipython3",
   "version": "3.9.6"
  }
 },
 "nbformat": 4,
 "nbformat_minor": 5
}
