{
 "cells": [
  {
   "cell_type": "markdown",
   "id": "a86bc78a",
   "metadata": {},
   "source": [
    "# Assignment 3.3 - Regularized Regression\n",
    "\n",
    "## DRW & UofC Quant Foundations\n",
    "### Summer 2024\n",
    "#### Mark Hendricks\n",
    "#### hendricks@uchicago.edu"
   ]
  },
  {
   "cell_type": "markdown",
   "id": "e7358f94-49f0-4b6f-8f48-5327445ca683",
   "metadata": {},
   "source": [
    "***"
   ]
  },
  {
   "cell_type": "markdown",
   "id": "695f4428",
   "metadata": {},
   "source": [
    "# Penalized Regression"
   ]
  },
  {
   "cell_type": "markdown",
   "id": "54679f33",
   "metadata": {},
   "source": [
    "$$\\newcommand{\\nsecs}{450}$$\n",
    "$$\\newcommand{\\target}{GLD}$$\n",
    "$$\\newcommand{\\spy}{\\text{spy}}$$\n",
    "$$\\newcommand{\\hyg}{\\text{hyg}}$$\n",
    "\n",
    "## Data\n",
    "* This homework uses the file, `data/spx_weekly_returns_single_names.xlsx`.\n",
    "* Find the data in the Github repo associated with the module, (link on Canvas.)\n",
    "\n",
    "The data file contains...\n",
    "* Return rates, $r^{\\target}_t$, for the \\target, (an ETF,) which tracks the returns on gold.\n",
    "* Return rates, $r^i_t$, for $\\nsecs$ single-name equities. \n",
    "\n",
    "#### Note\n",
    "These are less than 500 return series in the sample due to filtering out securities with insufficient return histories."
   ]
  },
  {
   "cell_type": "markdown",
   "id": "54a05ac6",
   "metadata": {},
   "source": [
    "## Model\n",
    "Consider a regression of $\\target$, denoted $r^{\\target}$, on all $\\nsecs$ returns of the S&P 500 stocks.\n",
    "\n",
    "$$\n",
    "r^{\\target}_t = \\alpha + \\sum_{j=1}^k \\beta^j r^j_t + \\epsilon_t\n",
    "\\label{eq:REG}\n",
    "$$\n",
    "\n",
    "We refer to this equation below as the `MODEL`."
   ]
  },
  {
   "cell_type": "markdown",
   "id": "6d7e7846-5086-4950-a42d-4186fe051913",
   "metadata": {},
   "source": [
    "***"
   ]
  },
  {
   "cell_type": "markdown",
   "id": "5b0ff294",
   "metadata": {},
   "source": [
    "# 1. \n",
    "\n",
    "Estimate the `MODEL` with OLS.\n",
    "\n",
    "#### Note\n",
    "For this OLS estimation, along with the estimations below, try using scikit-learn in Python\n",
    "\n",
    "`from sklearn import LinearRegression Lasso Ridge`\n",
    "\n",
    "For OLS specifically, try\n",
    "\n",
    "`model_ols = LinearRegression().fit(X,y)`\n",
    "\n",
    "### 1.1. \n",
    "Report the R-squared.\n",
    "### 1.2. \n",
    "Which factors have the largest betas in explaining $r^{\\target}$?\n",
    "### 1.3. \n",
    "Calculate $\\beta^j \\sigma^j$ for each regressor. Which of these is largest in magnitude, and thus most influential in explaining $r^{\\target}$?\n",
    "\n",
    "#### Note\n",
    "The beta being large may simply be because the regressor volatility is small. By scaling by the volatility, we get a better idea of which regressor is driving the most variation.\n",
    "\n",
    "### 1.4. \n",
    "Report the matrix condition number of $R'R$, where $R$ denotes the matrix of single-name equity return data. Why should this condition number give us pause about trusting the OLS estimates out-of-sample?\n",
    "\n",
    "#### Note\n",
    "To get the matrix condition number, consider using, in Python, `numpy.linalg.cond()`."
   ]
  },
  {
   "cell_type": "markdown",
   "id": "e05e923a",
   "metadata": {},
   "source": [
    "#  2. \n",
    "\n",
    "Estimate `MODEL` with Ridge Regression. \n",
    "* Use a penalty of `ALPHA=0.5` in the estimation.\n",
    "* Try using `est = Ridge(alpha=ALPHA).fit(X,y)`\n",
    "\n",
    "### 2.1.\n",
    "Report the R-squared.\n",
    "### 2.2.\n",
    "Based on $\\beta^j \\sigma^j$, which factor is most influential for $r^{\\target}$?\n",
    "\n",
    "### 2.3.\n",
    "Report the matrix condition number of the $R'R$.\n",
    "\n",
    "### 2.4.\n",
    "How many regressors have a non-zero beta estimates? "
   ]
  },
  {
   "cell_type": "markdown",
   "id": "4bd6fb76-91eb-439a-8560-ff81fe85326b",
   "metadata": {},
   "source": [
    "***"
   ]
  },
  {
   "cell_type": "markdown",
   "id": "b869ec06-d7f9-490b-aca8-488fd5328687",
   "metadata": {},
   "source": [
    "# 3. \n",
    "\n",
    "Estimate `MODEL` with LASSO Regression. \n",
    "* Use a penalty of `ALPHA=7e-5` in the estimation.\n",
    "* Try using `est = Lasso(alpha=ALPHA).fit(X,y)`\n",
    "\n",
    "### 3.1.\n",
    "Report the R-squared.\n",
    "\n",
    "### 3.2.\n",
    "Based on $\\beta^j \\sigma^j$, which factor is most influential for $r^{\\target}$ ?\n",
    "\n",
    "### 3.3.\n",
    "Report the matrix condition number of the $R'R$.\n",
    "\n",
    "### 3.4.\n",
    "How many regressors have a non-zero beta estimates? "
   ]
  },
  {
   "cell_type": "markdown",
   "id": "96f7a7d5-79bf-42c8-a522-624544dc0b7f",
   "metadata": {},
   "source": [
    "***"
   ]
  },
  {
   "cell_type": "markdown",
   "id": "b7171dd5-e56a-4136-920a-974034e72eee",
   "metadata": {},
   "source": [
    "# 4.\n",
    "\n",
    "How do the estimations compare across the three methods?\n",
    "\n",
    "### 4.1.\n",
    "Create a histogram of estimated betas across the three methods, (OLS, Ridge, LASSO.) \n",
    "\n",
    "Are they all nonzero? Are there positive and negative values? Do they range widely in magnitude? \n",
    "\n",
    "### 4.2.\n",
    "Which has the largest R-squared? Is this a surprise?"
   ]
  },
  {
   "cell_type": "markdown",
   "id": "5f7b3407-fb24-4747-ba80-3bfb93066424",
   "metadata": {},
   "source": [
    "***"
   ]
  },
  {
   "cell_type": "markdown",
   "id": "5070fcbf-d1dc-4b23-932f-c4ae57e20222",
   "metadata": {},
   "source": [
    "# 5.\n",
    "\n",
    "Try using cross-validation (with K-folds) to estimate the penalty parameter for Ridge and LASSO.\n",
    "\n",
    "Estimate this CV using two functions from  `sklearn.linear_model`\n",
    "* RidgeCV\n",
    "* LassoCV\n",
    "\n",
    "Feel free to use the default parameters, including the default number of folds.\n",
    "\n",
    "Report the CV penalty parameter for Lasso and Ridge."
   ]
  },
  {
   "cell_type": "markdown",
   "id": "b2be6532-27ba-4fee-8553-f333396cfe51",
   "metadata": {},
   "source": [
    "***"
   ]
  },
  {
   "cell_type": "markdown",
   "id": "7528eccf-3176-4559-bb67-dfb6791462c9",
   "metadata": {},
   "source": [
    "# 6.\n",
    "\n",
    "Use your estimations based on data through 2022 to fit the model for 2023-2024. Use the CV penalty parameters (from the previous problem) for Ridge and Lasso.\n",
    "\n",
    "* What is the r-squared in these out-of-sample fits?\n",
    "\n",
    "\n",
    "#### Note\n",
    "Doing this is really easy in Python. For instance, for the LASSO estimation, you could try\n",
    "\n",
    "`est = Lasso(alpha=ALPHA).fit(X,y)`\n",
    "\n",
    "`score_is = est.score(X_insamp,y_insamp)`\n",
    "\n",
    "`score_oos = est.score(X_oos,y_oos)`\n",
    "\n",
    "Which method does better out-of-sample?"
   ]
  },
  {
   "cell_type": "markdown",
   "id": "585a37ae-65b3-4dec-9395-636c15fd6bed",
   "metadata": {},
   "source": [
    "***"
   ]
  }
 ],
 "metadata": {
  "codeCellConfig": {
   "lineNumbers": true
  },
  "hide_input": false,
  "kernelspec": {
   "display_name": "Python 3 (ipykernel)",
   "language": "python",
   "name": "python3"
  },
  "language_info": {
   "codemirror_mode": {
    "name": "ipython",
    "version": 3
   },
   "file_extension": ".py",
   "mimetype": "text/x-python",
   "name": "python",
   "nbconvert_exporter": "python",
   "pygments_lexer": "ipython3",
   "version": "3.9.6"
  },
  "markdownCellConfig": {
   "lineNumbers": true
  },
  "numberCellsToRenderDirectly": 10000000000000,
  "renderCellOnIdle": false,
  "toc": {
   "base_numbering": 1,
   "nav_menu": {},
   "number_sections": false,
   "sideBar": true,
   "skip_h1_title": false,
   "title_cell": "Table of Contents",
   "title_sidebar": "Contents",
   "toc_cell": false,
   "toc_position": {},
   "toc_section_display": true,
   "toc_window_display": false
  },
  "varInspector": {
   "cols": {
    "lenName": 16,
    "lenType": 16,
    "lenVar": 40
   },
   "kernels_config": {
    "python": {
     "delete_cmd_postfix": "",
     "delete_cmd_prefix": "del ",
     "library": "var_list.py",
     "varRefreshCmd": "print(var_dic_list())"
    },
    "r": {
     "delete_cmd_postfix": ") ",
     "delete_cmd_prefix": "rm(",
     "library": "var_list.r",
     "varRefreshCmd": "cat(var_dic_list()) "
    }
   },
   "types_to_exclude": [
    "module",
    "function",
    "builtin_function_or_method",
    "instance",
    "_Feature"
   ],
   "window_display": false
  }
 },
 "nbformat": 4,
 "nbformat_minor": 5
}
